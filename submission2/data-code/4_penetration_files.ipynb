{
 "cells": [
  {
   "cell_type": "code",
   "execution_count": 1,
   "metadata": {},
   "outputs": [],
   "source": [
    "import pandas as pd"
   ]
  },
  {
   "cell_type": "code",
   "execution_count": 2,
   "metadata": {},
   "outputs": [],
   "source": [
    "# Define month lists\n",
    "monthlists = {\n",
    "    year: [f\"{m:02d}\" for m in range(1, 13)]\n",
    "    for year in range(2010, 2016)\n",
    "}"
   ]
  },
  {
   "cell_type": "code",
   "execution_count": 3,
   "metadata": {},
   "outputs": [],
   "source": [
    "# Initialize full DataFrame\n",
    "all_years = []\n",
    "\n",
    "# Process each year and month\n",
    "for year, months in monthlists.items():\n",
    "    monthly_data = []"
   ]
  },
  {
   "cell_type": "code",
   "execution_count": 4,
   "metadata": {},
   "outputs": [],
   "source": [
    " for month in months:\n",
    "        ma_path = f\"/Users/ellenwu/homework4/data/input/monthly-ma-state-and-county-penetration/State_County_Penetration_MA_{year}_{month}.csv\"\n",
    "\n",
    "        df = pd.read_csv(\n",
    "            ma_path,\n",
    "            skiprows=1,\n",
    "            names=[\n",
    "                \"state\", \"county\", \"fips_state\", \"fips_cnty\", \"fips\",\n",
    "                \"ssa_state\", \"ssa_cnty\", \"ssa\", \"eligibles\", \"enrolled\", \"penetration\"\n",
    "            ],\n",
    "            na_values=\"*\",\n",
    "        )\n",
    "        df[\"eligibles\"] = df[\"eligibles\"].replace(\",\", \"\", regex=True).astype(float)\n",
    "        df[\"enrolled\"] = df[\"enrolled\"].replace(\",\", \"\", regex=True).astype(float)\n",
    "        df[\"penetration\"] = df[\"penetration\"].replace(\"%\", \"\", regex=True).astype(float) / 100.0\n",
    "        df[\"fips\"] = pd.to_numeric(df[\"fips\"], errors='coerce')  # Ensure fips is numeric\n",
    "\n",
    "        df[\"month\"] = month\n",
    "        df[\"year\"] = year\n",
    "        monthly_data.append(df)"
   ]
  },
  {
   "cell_type": "code",
   "execution_count": 5,
   "metadata": {},
   "outputs": [],
   "source": [
    "ma_penetration = pd.concat(monthly_data, ignore_index=True)\n",
    "\n",
    "# Fill in missing FIPS within state-county groups\n",
    "ma_penetration[\"fips\"] = ma_penetration.groupby([\"state\", \"county\"])[\"fips\"].transform(lambda x: x.ffill().bfill())\n",
    "\n",
    "# Collapse to yearly data by averaging\n",
    "# Collapse to yearly data\n",
    "ma_penetration = (\n",
    "    ma_penetration\n",
    "    .groupby([\"fips\", \"state\", \"county\"], as_index=False)\n",
    "    .agg(\n",
    "        avg_eligibles=('eligibles', 'mean'),\n",
    "        sd_eligibles=('eligibles', 'std'),\n",
    "        min_eligibles=('eligibles', 'min'),\n",
    "        max_eligibles=('eligibles', 'max'),\n",
    "        first_eligibles=('eligibles', 'first'),\n",
    "        last_eligibles=('eligibles', 'last'),\n",
    "        avg_enrolled=('enrolled', 'mean'),\n",
    "        sd_enrolled=('enrolled', 'std'),\n",
    "        min_enrolled=('enrolled', 'min'),\n",
    "        max_enrolled=('enrolled', 'max'),\n",
    "        first_enrolled=('enrolled', 'first'),\n",
    "        last_enrolled=('enrolled', 'last'),\n",
    "        year=('year', 'last'),\n",
    "        ssa=('ssa', 'first')\n",
    "    )\n",
    ")"
   ]
  },
  {
   "cell_type": "code",
   "execution_count": 6,
   "metadata": {},
   "outputs": [],
   "source": [
    "all_years.append(ma_penetration)"
   ]
  },
  {
   "cell_type": "code",
   "execution_count": 7,
   "metadata": {},
   "outputs": [],
   "source": [
    "# Combine all years into final DataFrame\n",
    "ma_penetration_all = pd.concat(all_years, ignore_index=True)\n",
    "\n",
    "# Save final dataset\n",
    "ma_penetration_all.to_csv(\"/Users/ellenwu/homework4/data/output/ma_penetration.csv\", index=False)"
   ]
  }
 ],
 "metadata": {
  "kernelspec": {
   "display_name": "base",
   "language": "python",
   "name": "python3"
  },
  "language_info": {
   "codemirror_mode": {
    "name": "ipython",
    "version": 3
   },
   "file_extension": ".py",
   "mimetype": "text/x-python",
   "name": "python",
   "nbconvert_exporter": "python",
   "pygments_lexer": "ipython3",
   "version": "3.11.4"
  }
 },
 "nbformat": 4,
 "nbformat_minor": 2
}
