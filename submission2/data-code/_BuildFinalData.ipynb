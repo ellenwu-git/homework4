{
 "cells": [
  {
   "cell_type": "code",
   "execution_count": 1,
   "metadata": {},
   "outputs": [],
   "source": [
    "import pandas as pd\n",
    "import numpy as np\n",
    "import warnings\n",
    "warnings.simplefilter('ignore')"
   ]
  },
  {
   "cell_type": "code",
   "execution_count": 2,
   "metadata": {},
   "outputs": [],
   "source": [
    "# Call individual scripts\n",
    "%run /Users/ellenwu/homework4/submission2/data-code/1_plan_data.ipynb\n",
    "%run /Users/ellenwu/homework4/submission2/data-code/3_service_areas.ipynb\n",
    "%run /Users/ellenwu/homework4/submission2/data-code/4_penetration_files.ipynb\n",
    "%run /Users/ellenwu/homework4/submission2/data-code/5_star_ratings.ipynb\n",
    "%run /Users/ellenwu/homework4/submission2/data-code/7_MA_benchmark.ipynb\n",
    "%run /Users/ellenwu/homework4/submission2/data-code/rating_variables.ipynb"
   ]
  },
  {
   "cell_type": "code",
   "execution_count": 3,
   "metadata": {},
   "outputs": [],
   "source": [
    "# Load the datasets\n",
    "full_ma_data = pd.read_csv(\"/Users/ellenwu/homework4/data/output/full_ma_data.csv\")\n",
    "contract_service_area = pd.read_csv(\"/Users/ellenwu/homework4/data/output/contract_service_area.csv\")\n",
    "star_ratings = pd.read_csv(\"/Users/ellenwu/homework4/data/output/star_ratings.csv\")\n",
    "ma_penetration_data = pd.read_csv(\"/Users/ellenwu/homework4/data/output/ma_penetration.csv\")\n",
    "benchmark_final = pd.read_csv(\"/Users/ellenwu/homework4/data/output/ma_benchmarks.csv\")"
   ]
  },
  {
   "cell_type": "code",
   "execution_count": 4,
   "metadata": {},
   "outputs": [],
   "source": [
    "# Perform the first join and filter\n",
    "final_data = (\n",
    "    full_ma_data.merge(\n",
    "        contract_service_area[[\"contractid\", \"fips\", \"year\"]],\n",
    "        on=[\"contractid\", \"fips\", \"year\"],\n",
    "        how=\"inner\"\n",
    "    )\n",
    "    .query(\n",
    "        \"~state.isin(['VI', 'PR', 'MP', 'GU', 'AS', '']) & snp == 'No' & \"\n",
    "        \"(planid < 800 | planid >= 900) & planid.notna() & fips.notna()\"\n",
    "    )\n",
    ")\n",
    "\n",
    "# Perform the subsequent joins\n",
    "final_data = (\n",
    "    final_data.merge(\n",
    "        star_ratings.drop(columns=[\"contract_name\", \"org_type\", \"org_marketing\"]),\n",
    "        on=[\"contractid\", \"year\"],\n",
    "        how=\"left\"\n",
    "    )\n",
    "    .merge(\n",
    "        ma_penetration_data.drop(columns=[\"ssa\"]).rename(columns={\"state\": \"state_long\", \"county\": \"county_long\"}),\n",
    "        on=[\"fips\", \"year\"],\n",
    "        how=\"left\"\n",
    "    )\n",
    ")"
   ]
  },
  {
   "cell_type": "code",
   "execution_count": 5,
   "metadata": {},
   "outputs": [],
   "source": [
    "# Calculate Star_Rating\n",
    "final_data[\"Star_Rating\"] = np.where(\n",
    "    final_data[\"partd\"] == \"No\",\n",
    "    final_data[\"partc_score\"],\n",
    "    np.where(\n",
    "        final_data[\"partd\"] == \"Yes\",\n",
    "        np.where(\n",
    "            final_data[\"partcd_score\"].isna(),\n",
    "            final_data[\"partc_score\"],\n",
    "            final_data[\"partcd_score\"]\n",
    "        ),\n",
    "        np.nan\n",
    "    )\n",
    ")"
   ]
  },
  {
   "cell_type": "code",
   "execution_count": 6,
   "metadata": {},
   "outputs": [
    {
     "name": "stdout",
     "output_type": "stream",
     "text": [
      "The history saving thread hit an unexpected error (OperationalError('unable to open database file')).History will not be written to the database.\n"
     ]
    }
   ],
   "source": [
    "# Get final state name per state\n",
    "final_state = (\n",
    "    final_data\n",
    "    .sort_values(\"year\")  # ensure correct ordering\n",
    "    .groupby(\"state\", as_index=False)\n",
    "    .agg(state_name=(\"state_long\", lambda x: x.dropna().iloc[-1] if not x.dropna().empty else np.nan))\n",
    ")\n",
    "final_data = final_data.merge(final_state, on=\"state\", how=\"left\")"
   ]
  },
  {
   "cell_type": "code",
   "execution_count": 7,
   "metadata": {},
   "outputs": [],
   "source": [
    "# # Merge with plan premiums\n",
    "# final_data = final_data.merge(\n",
    "#     plan_premiums,\n",
    "#     how=\"left\",\n",
    "#     left_on=[\"contractid\", \"planid\", \"state_name\", \"county\", \"year\"],\n",
    "#     right_on=[\"contractid\", \"planid\", \"state\", \"county\", \"year\"]\n",
    "# )\n",
    "\n",
    "# # Merge with risk rebate data (dropping extra columns first)\n",
    "# risk_rebate_cleaned = risk_rebate_final.drop(columns=[\"contract_name\", \"plan_type\"], errors=\"ignore\")\n",
    "\n",
    "# final_data = final_data.merge(\n",
    "#     risk_rebate_cleaned,\n",
    "#     how=\"left\",\n",
    "#     on=[\"contractid\", \"planid\", \"year\"]\n",
    "# )"
   ]
  },
  {
   "cell_type": "code",
   "execution_count": 8,
   "metadata": {},
   "outputs": [],
   "source": [
    "#Merge\n",
    "final_data = final_data.merge(\n",
    "    benchmark_final,\n",
    "    how=\"left\",\n",
    "    on=[\"ssa\", \"year\"]\n",
    ")"
   ]
  },
  {
   "cell_type": "code",
   "execution_count": 9,
   "metadata": {},
   "outputs": [],
   "source": [
    "# Convert year back to int for comparison logic\n",
    "final_data[\"year\"] = final_data[\"year\"].astype(int)\n",
    "\n",
    "# Now this will work\n",
    "conditions = [\n",
    "    final_data[\"year\"] < 2012,\n",
    "    (final_data[\"year\"].between(2012, 2014)) & (final_data[\"Star_Rating\"] == 5),\n",
    "    (final_data[\"year\"].between(2012, 2014)) & (final_data[\"Star_Rating\"] == 4.5),\n",
    "    (final_data[\"year\"].between(2012, 2014)) & (final_data[\"Star_Rating\"] == 4),\n",
    "    (final_data[\"year\"].between(2012, 2014)) & (final_data[\"Star_Rating\"] == 3.5),\n",
    "    (final_data[\"year\"].between(2012, 2014)) & (final_data[\"Star_Rating\"] == 3),\n",
    "    (final_data[\"year\"].between(2012, 2014)) & (final_data[\"Star_Rating\"] < 3),\n",
    "    (final_data[\"year\"].between(2012, 2014)) & (final_data[\"Star_Rating\"].isna()),\n",
    "    (final_data[\"year\"] >= 2015) & (final_data[\"Star_Rating\"] >= 4),\n",
    "    (final_data[\"year\"] >= 2015) & (final_data[\"Star_Rating\"] < 4),\n",
    "    (final_data[\"year\"] >= 2015) & (final_data[\"Star_Rating\"].isna())\n",
    "]"
   ]
  },
  {
   "cell_type": "code",
   "execution_count": 10,
   "metadata": {},
   "outputs": [],
   "source": [
    "choices = [\n",
    "    final_data[\"risk_ab\"],\n",
    "    final_data[\"risk_star5\"],\n",
    "    final_data[\"risk_star45\"],\n",
    "    final_data[\"risk_star4\"],\n",
    "    final_data[\"risk_star35\"],\n",
    "    final_data[\"risk_star3\"],\n",
    "    final_data[\"risk_star25\"],\n",
    "    final_data[\"risk_star35\"],\n",
    "    final_data[\"risk_bonus5\"],\n",
    "    final_data[\"risk_bonus0\"],\n",
    "    final_data[\"risk_bonus35\"]\n",
    "]"
   ]
  },
  {
   "cell_type": "code",
   "execution_count": 12,
   "metadata": {},
   "outputs": [],
   "source": [
    "final_data[\"ma_rate\"] = np.select(conditions, choices, default=np.nan)\n",
    "final_data[\"ma_rate\"] = pd.to_numeric(final_data[\"ma_rate\"], errors=\"coerce\")\n",
    "\n",
    "# Save the final dataset\n",
    "final_data.to_csv(\"/Users/ellenwu/homework4/data/output/final_ma_data.csv\", index=False)"
   ]
  },
  {
   "cell_type": "code",
   "execution_count": null,
   "metadata": {},
   "outputs": [],
   "source": []
  }
 ],
 "metadata": {
  "kernelspec": {
   "display_name": "base",
   "language": "python",
   "name": "python3"
  },
  "language_info": {
   "codemirror_mode": {
    "name": "ipython",
    "version": 3
   },
   "file_extension": ".py",
   "mimetype": "text/x-python",
   "name": "python",
   "nbconvert_exporter": "python",
   "pygments_lexer": "ipython3",
   "version": "3.11.4"
  }
 },
 "nbformat": 4,
 "nbformat_minor": 2
}
