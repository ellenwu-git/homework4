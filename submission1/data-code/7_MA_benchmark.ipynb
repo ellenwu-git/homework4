{
 "cells": [
  {
   "cell_type": "code",
   "execution_count": 1,
   "metadata": {},
   "outputs": [],
   "source": [
    "import pandas as pd\n",
    "from pathlib import Path\n",
    "\n",
    "# File paths for each year\n",
    "bench_paths = {\n",
    "    2007: \"/Users/ellenwu/homework4/data/input/ma-benchmarks/ratebook2007/countyrate2007.csv\",\n",
    "    2008: \"/Users/ellenwu/homework4/data/input/ma-benchmarks/ratebook2008/countyrate2008.csv\",\n",
    "    2009: \"/Users/ellenwu/homework4/data/input/ma-benchmarks/ratebook2009/countyrate2009.csv\",\n",
    "    2010: \"/Users/ellenwu/homework4/data/input/ma-benchmarks/ratebook2010/CountyRate2010.csv\",\n",
    "    2011: \"/Users/ellenwu/homework4/data/input/ma-benchmarks/ratebook2011/CountyRate2011.csv\",\n",
    "    2012: \"/Users/ellenwu/homework4/data/input/ma-benchmarks/ratebook2012/CountyRate2012.csv\",\n",
    "    2013: \"/Users/ellenwu/homework4/data/input/ma-benchmarks/ratebook2013/CountyRate2013.csv\",\n",
    "    2014: \"/Users/ellenwu/homework4/data/input/ma-benchmarks/ratebook2014/CountyRate2014.csv\",\n",
    "    2015: \"/Users/ellenwu/homework4/data/input/ma-benchmarks/ratebook2015/CSV/CountyRate2015.csv\"\n",
    "}\n",
    "\n",
    "# Rows to skip for each year\n",
    "drops = {\n",
    "    2007: 9, 2008: 10, 2009: 9, 2010: 9, 2011: 11,\n",
    "    2012: 8, 2013: 4, 2014: 2, 2015: 3\n",
    "}\n",
    "\n",
    "benchmark_data = []\n",
    "\n",
    "# Process years 2007-2011\n",
    "for year in range(2007, 2012):\n",
    "    df = pd.read_csv(bench_paths[year], skiprows=drops[year], header=None,\n",
    "                     names=[\"ssa\", \"state\", \"county_name\", \"aged_parta\", \"aged_partb\", \n",
    "                            \"disabled_parta\", \"disabled_partb\", \"esrd_ab\", \"risk_ab\"])\n",
    "    df = df[[\"ssa\", \"aged_parta\", \"aged_partb\", \"risk_ab\"]]\n",
    "    for col in [\"risk_star5\", \"risk_star45\", \"risk_star4\", \"risk_star35\", \n",
    "                \"risk_star3\", \"risk_star25\", \"risk_bonus5\", \"risk_bonus35\", \"risk_bonus0\"]:\n",
    "        df[col] = None\n",
    "    df[\"year\"] = year\n",
    "    benchmark_data.append(df)\n",
    "\n",
    "# Process years 2012-2014\n",
    "for year in range(2012, 2015):\n",
    "    df = pd.read_csv(bench_paths[year], skiprows=drops[year], header=None,\n",
    "                     names=[\"ssa\", \"state\", \"county_name\", \"risk_star5\", \"risk_star45\", \n",
    "                            \"risk_star4\", \"risk_star35\", \"risk_star3\", \"risk_star25\", \"esrd_ab\"])\n",
    "    df = df[[\"ssa\", \"risk_star5\", \"risk_star45\", \"risk_star4\", \n",
    "             \"risk_star35\", \"risk_star3\", \"risk_star25\"]]\n",
    "    for col in [\"aged_parta\", \"aged_partb\", \"risk_ab\", \n",
    "                \"risk_bonus5\", \"risk_bonus35\", \"risk_bonus0\"]:\n",
    "        df[col] = None\n",
    "    df[\"year\"] = year\n",
    "    benchmark_data.append(df)\n",
    "\n",
    "# Process year 2015\n",
    "df_2015 = pd.read_csv(bench_paths[2015], skiprows=drops[2015], header=None, na_values=\"#N/A\",\n",
    "                      names=[\"ssa\", \"state\", \"county_name\", \"risk_bonus5\", \n",
    "                             \"risk_bonus35\", \"risk_bonus0\", \"esrd_ab\"])\n",
    "df_2015 = df_2015[[\"ssa\", \"risk_bonus5\", \"risk_bonus35\", \"risk_bonus0\"]]\n",
    "for col in [\"risk_star5\", \"risk_star45\", \"risk_star4\", \"risk_star35\", \n",
    "            \"risk_star3\", \"risk_star25\", \"aged_parta\", \"aged_partb\", \"risk_ab\"]:\n",
    "    df_2015[col] = None\n",
    "df_2015[\"year\"] = 2015\n",
    "benchmark_data.append(df_2015)\n",
    "\n",
    "# Combine all years\n",
    "benchmark_final = pd.concat(benchmark_data, ignore_index=True)"
   ]
  },
  {
   "cell_type": "code",
   "execution_count": 3,
   "metadata": {},
   "outputs": [],
   "source": [
    "# Example: Get only 2007 data with non-null aged_parta\n",
    "df_2007 = benchmark_final[(benchmark_final['year'] == 2007) & (benchmark_final['aged_parta'].notna())]"
   ]
  },
  {
   "cell_type": "code",
   "execution_count": 2,
   "metadata": {},
   "outputs": [],
   "source": [
    "\n",
    "# Save dataset\n",
    "benchmark_final.to_csv(\"/Users/ellenwu/homework4/data/output/lma_benchmarks.csv\", index=False)"
   ]
  },
  {
   "cell_type": "code",
   "execution_count": null,
   "metadata": {},
   "outputs": [],
   "source": []
  }
 ],
 "metadata": {
  "kernelspec": {
   "display_name": "base",
   "language": "python",
   "name": "python3"
  },
  "language_info": {
   "codemirror_mode": {
    "name": "ipython",
    "version": 3
   },
   "file_extension": ".py",
   "mimetype": "text/x-python",
   "name": "python",
   "nbconvert_exporter": "python",
   "pygments_lexer": "ipython3",
   "version": "3.11.4"
  }
 },
 "nbformat": 4,
 "nbformat_minor": 2
}
